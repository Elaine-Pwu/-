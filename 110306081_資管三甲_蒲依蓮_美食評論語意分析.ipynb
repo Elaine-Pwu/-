{
  "nbformat": 4,
  "nbformat_minor": 0,
  "metadata": {
    "colab": {
      "provenance": [],
      "include_colab_link": true
    },
    "kernelspec": {
      "name": "python3",
      "display_name": "Python 3"
    },
    "language_info": {
      "name": "python"
    }
  },
  "cells": [
    {
      "cell_type": "markdown",
      "metadata": {
        "id": "view-in-github",
        "colab_type": "text"
      },
      "source": [
        "<a href=\"https://colab.research.google.com/github/Elaine-Pwu/Sentiment-Analysis-Using-Text-Data/blob/main/110306081_%E8%B3%87%E7%AE%A1%E4%B8%89%E7%94%B2_%E8%92%B2%E4%BE%9D%E8%93%AE_%E7%BE%8E%E9%A3%9F%E8%A9%95%E8%AB%96%E8%AA%9E%E6%84%8F%E5%88%86%E6%9E%90.ipynb\" target=\"_parent\"><img src=\"https://colab.research.google.com/assets/colab-badge.svg\" alt=\"Open In Colab\"/></a>"
      ]
    },
    {
      "cell_type": "markdown",
      "source": [
        "# **美食評論語意分析**\n",
        "\n",
        "\n"
      ],
      "metadata": {
        "id": "3eBH0yuCmsza"
      }
    },
    {
      "cell_type": "markdown",
      "source": [
        "資料來源是 [Amazon上的美食評論](https://www.kaggle.com/datasets/snap/amazon-fine-food-reviews/)"
      ],
      "metadata": {
        "id": "BpQT7SFfOAWd"
      }
    },
    {
      "cell_type": "code",
      "source": [
        "%matplotlib inline\n",
        "\n",
        "import numpy as np\n",
        "import pandas as pd\n",
        "import matplotlib.pyplot as plt"
      ],
      "metadata": {
        "id": "NkhDHLE4E6aL"
      },
      "execution_count": null,
      "outputs": []
    },
    {
      "cell_type": "markdown",
      "source": [
        "##1. **資料匯入:**"
      ],
      "metadata": {
        "id": "QElIeyP1HUUc"
      }
    },
    {
      "cell_type": "markdown",
      "source": [
        "首先，匯入5,000筆資料筆資料\n"
      ],
      "metadata": {
        "id": "ZzZHS4G-SjcY"
      }
    },
    {
      "cell_type": "markdown",
      "source": [
        " 這裡使用`pandas`函式庫的`read_csv`函數將從Google Sheets中讀取的CSV資料匯入為DataFrame(`df`)。"
      ],
      "metadata": {
        "id": "BTl2J4coHg2f"
      }
    },
    {
      "cell_type": "code",
      "source": [
        "df = pd.read_csv('https://docs.google.com/spreadsheets/d/e/2PACX-1vSQTObLDNCgJXxOgkqn6rx3bmh_Uq4ebvrjWSwhbXvjutyHJfDzxqSIgvEwY5XT5lCzyT0i3LqlBT1r/pub?gid=0&single=true&output=csv')\n",
        "df.head()"
      ],
      "metadata": {
        "colab": {
          "base_uri": "https://localhost:8080/",
          "height": 260
        },
        "id": "bpfkw62iS5zI",
        "outputId": "bcffee2d-913e-4665-e9ff-fd047ff70e50"
      },
      "execution_count": null,
      "outputs": [
        {
          "output_type": "execute_result",
          "data": {
            "text/plain": [
              "   Id   ProductId          UserId                      ProfileName  \\\n",
              "0   1  B001E4KFG0  A3SGXH7AUHU8GW                       delmartian   \n",
              "1   2  B00813GRG4  A1D87F6ZCVE5NK                           dll pa   \n",
              "2   3  B000LQOCH0   ABXLMWJIXXAIN  Natalia Corres \"Natalia Corres\"   \n",
              "3   4  B000UA0QIQ  A395BORC6FGVXV                             Karl   \n",
              "4   5  B006K2ZZ7K  A1UQRSCLF8GW1T    Michael D. Bigham \"M. Wassir\"   \n",
              "\n",
              "   HelpfulnessNumerator  HelpfulnessDenominator  Score        Time  \\\n",
              "0                     1                       1      5  1303862400   \n",
              "1                     0                       0      1  1346976000   \n",
              "2                     1                       1      4  1219017600   \n",
              "3                     3                       3      2  1307923200   \n",
              "4                     0                       0      5  1350777600   \n",
              "\n",
              "                 Summary                                               Text  \n",
              "0  Good Quality Dog Food  I have bought several of the Vitality canned d...  \n",
              "1      Not as Advertised  Product arrived labeled as Jumbo Salted Peanut...  \n",
              "2  \"Delight\" says it all  This is a confection that has been around a fe...  \n",
              "3         Cough Medicine  If you are looking for the secret ingredient i...  \n",
              "4            Great taffy  Great taffy at a great price. There was a wide...  "
            ],
            "text/html": [
              "\n",
              "  <div id=\"df-f0a95ab0-c21c-4b11-ad34-37924842b74b\" class=\"colab-df-container\">\n",
              "    <div>\n",
              "<style scoped>\n",
              "    .dataframe tbody tr th:only-of-type {\n",
              "        vertical-align: middle;\n",
              "    }\n",
              "\n",
              "    .dataframe tbody tr th {\n",
              "        vertical-align: top;\n",
              "    }\n",
              "\n",
              "    .dataframe thead th {\n",
              "        text-align: right;\n",
              "    }\n",
              "</style>\n",
              "<table border=\"1\" class=\"dataframe\">\n",
              "  <thead>\n",
              "    <tr style=\"text-align: right;\">\n",
              "      <th></th>\n",
              "      <th>Id</th>\n",
              "      <th>ProductId</th>\n",
              "      <th>UserId</th>\n",
              "      <th>ProfileName</th>\n",
              "      <th>HelpfulnessNumerator</th>\n",
              "      <th>HelpfulnessDenominator</th>\n",
              "      <th>Score</th>\n",
              "      <th>Time</th>\n",
              "      <th>Summary</th>\n",
              "      <th>Text</th>\n",
              "    </tr>\n",
              "  </thead>\n",
              "  <tbody>\n",
              "    <tr>\n",
              "      <th>0</th>\n",
              "      <td>1</td>\n",
              "      <td>B001E4KFG0</td>\n",
              "      <td>A3SGXH7AUHU8GW</td>\n",
              "      <td>delmartian</td>\n",
              "      <td>1</td>\n",
              "      <td>1</td>\n",
              "      <td>5</td>\n",
              "      <td>1303862400</td>\n",
              "      <td>Good Quality Dog Food</td>\n",
              "      <td>I have bought several of the Vitality canned d...</td>\n",
              "    </tr>\n",
              "    <tr>\n",
              "      <th>1</th>\n",
              "      <td>2</td>\n",
              "      <td>B00813GRG4</td>\n",
              "      <td>A1D87F6ZCVE5NK</td>\n",
              "      <td>dll pa</td>\n",
              "      <td>0</td>\n",
              "      <td>0</td>\n",
              "      <td>1</td>\n",
              "      <td>1346976000</td>\n",
              "      <td>Not as Advertised</td>\n",
              "      <td>Product arrived labeled as Jumbo Salted Peanut...</td>\n",
              "    </tr>\n",
              "    <tr>\n",
              "      <th>2</th>\n",
              "      <td>3</td>\n",
              "      <td>B000LQOCH0</td>\n",
              "      <td>ABXLMWJIXXAIN</td>\n",
              "      <td>Natalia Corres \"Natalia Corres\"</td>\n",
              "      <td>1</td>\n",
              "      <td>1</td>\n",
              "      <td>4</td>\n",
              "      <td>1219017600</td>\n",
              "      <td>\"Delight\" says it all</td>\n",
              "      <td>This is a confection that has been around a fe...</td>\n",
              "    </tr>\n",
              "    <tr>\n",
              "      <th>3</th>\n",
              "      <td>4</td>\n",
              "      <td>B000UA0QIQ</td>\n",
              "      <td>A395BORC6FGVXV</td>\n",
              "      <td>Karl</td>\n",
              "      <td>3</td>\n",
              "      <td>3</td>\n",
              "      <td>2</td>\n",
              "      <td>1307923200</td>\n",
              "      <td>Cough Medicine</td>\n",
              "      <td>If you are looking for the secret ingredient i...</td>\n",
              "    </tr>\n",
              "    <tr>\n",
              "      <th>4</th>\n",
              "      <td>5</td>\n",
              "      <td>B006K2ZZ7K</td>\n",
              "      <td>A1UQRSCLF8GW1T</td>\n",
              "      <td>Michael D. Bigham \"M. Wassir\"</td>\n",
              "      <td>0</td>\n",
              "      <td>0</td>\n",
              "      <td>5</td>\n",
              "      <td>1350777600</td>\n",
              "      <td>Great taffy</td>\n",
              "      <td>Great taffy at a great price. There was a wide...</td>\n",
              "    </tr>\n",
              "  </tbody>\n",
              "</table>\n",
              "</div>\n",
              "    <div class=\"colab-df-buttons\">\n",
              "\n",
              "  <div class=\"colab-df-container\">\n",
              "    <button class=\"colab-df-convert\" onclick=\"convertToInteractive('df-f0a95ab0-c21c-4b11-ad34-37924842b74b')\"\n",
              "            title=\"Convert this dataframe to an interactive table.\"\n",
              "            style=\"display:none;\">\n",
              "\n",
              "  <svg xmlns=\"http://www.w3.org/2000/svg\" height=\"24px\" viewBox=\"0 -960 960 960\">\n",
              "    <path d=\"M120-120v-720h720v720H120Zm60-500h600v-160H180v160Zm220 220h160v-160H400v160Zm0 220h160v-160H400v160ZM180-400h160v-160H180v160Zm440 0h160v-160H620v160ZM180-180h160v-160H180v160Zm440 0h160v-160H620v160Z\"/>\n",
              "  </svg>\n",
              "    </button>\n",
              "\n",
              "  <style>\n",
              "    .colab-df-container {\n",
              "      display:flex;\n",
              "      gap: 12px;\n",
              "    }\n",
              "\n",
              "    .colab-df-convert {\n",
              "      background-color: #E8F0FE;\n",
              "      border: none;\n",
              "      border-radius: 50%;\n",
              "      cursor: pointer;\n",
              "      display: none;\n",
              "      fill: #1967D2;\n",
              "      height: 32px;\n",
              "      padding: 0 0 0 0;\n",
              "      width: 32px;\n",
              "    }\n",
              "\n",
              "    .colab-df-convert:hover {\n",
              "      background-color: #E2EBFA;\n",
              "      box-shadow: 0px 1px 2px rgba(60, 64, 67, 0.3), 0px 1px 3px 1px rgba(60, 64, 67, 0.15);\n",
              "      fill: #174EA6;\n",
              "    }\n",
              "\n",
              "    .colab-df-buttons div {\n",
              "      margin-bottom: 4px;\n",
              "    }\n",
              "\n",
              "    [theme=dark] .colab-df-convert {\n",
              "      background-color: #3B4455;\n",
              "      fill: #D2E3FC;\n",
              "    }\n",
              "\n",
              "    [theme=dark] .colab-df-convert:hover {\n",
              "      background-color: #434B5C;\n",
              "      box-shadow: 0px 1px 3px 1px rgba(0, 0, 0, 0.15);\n",
              "      filter: drop-shadow(0px 1px 2px rgba(0, 0, 0, 0.3));\n",
              "      fill: #FFFFFF;\n",
              "    }\n",
              "  </style>\n",
              "\n",
              "    <script>\n",
              "      const buttonEl =\n",
              "        document.querySelector('#df-f0a95ab0-c21c-4b11-ad34-37924842b74b button.colab-df-convert');\n",
              "      buttonEl.style.display =\n",
              "        google.colab.kernel.accessAllowed ? 'block' : 'none';\n",
              "\n",
              "      async function convertToInteractive(key) {\n",
              "        const element = document.querySelector('#df-f0a95ab0-c21c-4b11-ad34-37924842b74b');\n",
              "        const dataTable =\n",
              "          await google.colab.kernel.invokeFunction('convertToInteractive',\n",
              "                                                    [key], {});\n",
              "        if (!dataTable) return;\n",
              "\n",
              "        const docLinkHtml = 'Like what you see? Visit the ' +\n",
              "          '<a target=\"_blank\" href=https://colab.research.google.com/notebooks/data_table.ipynb>data table notebook</a>'\n",
              "          + ' to learn more about interactive tables.';\n",
              "        element.innerHTML = '';\n",
              "        dataTable['output_type'] = 'display_data';\n",
              "        await google.colab.output.renderOutput(dataTable, element);\n",
              "        const docLink = document.createElement('div');\n",
              "        docLink.innerHTML = docLinkHtml;\n",
              "        element.appendChild(docLink);\n",
              "      }\n",
              "    </script>\n",
              "  </div>\n",
              "\n",
              "\n",
              "<div id=\"df-3d40013f-e94c-4880-bc77-fe219e0ec00b\">\n",
              "  <button class=\"colab-df-quickchart\" onclick=\"quickchart('df-3d40013f-e94c-4880-bc77-fe219e0ec00b')\"\n",
              "            title=\"Suggest charts\"\n",
              "            style=\"display:none;\">\n",
              "\n",
              "<svg xmlns=\"http://www.w3.org/2000/svg\" height=\"24px\"viewBox=\"0 0 24 24\"\n",
              "     width=\"24px\">\n",
              "    <g>\n",
              "        <path d=\"M19 3H5c-1.1 0-2 .9-2 2v14c0 1.1.9 2 2 2h14c1.1 0 2-.9 2-2V5c0-1.1-.9-2-2-2zM9 17H7v-7h2v7zm4 0h-2V7h2v10zm4 0h-2v-4h2v4z\"/>\n",
              "    </g>\n",
              "</svg>\n",
              "  </button>\n",
              "\n",
              "<style>\n",
              "  .colab-df-quickchart {\n",
              "      --bg-color: #E8F0FE;\n",
              "      --fill-color: #1967D2;\n",
              "      --hover-bg-color: #E2EBFA;\n",
              "      --hover-fill-color: #174EA6;\n",
              "      --disabled-fill-color: #AAA;\n",
              "      --disabled-bg-color: #DDD;\n",
              "  }\n",
              "\n",
              "  [theme=dark] .colab-df-quickchart {\n",
              "      --bg-color: #3B4455;\n",
              "      --fill-color: #D2E3FC;\n",
              "      --hover-bg-color: #434B5C;\n",
              "      --hover-fill-color: #FFFFFF;\n",
              "      --disabled-bg-color: #3B4455;\n",
              "      --disabled-fill-color: #666;\n",
              "  }\n",
              "\n",
              "  .colab-df-quickchart {\n",
              "    background-color: var(--bg-color);\n",
              "    border: none;\n",
              "    border-radius: 50%;\n",
              "    cursor: pointer;\n",
              "    display: none;\n",
              "    fill: var(--fill-color);\n",
              "    height: 32px;\n",
              "    padding: 0;\n",
              "    width: 32px;\n",
              "  }\n",
              "\n",
              "  .colab-df-quickchart:hover {\n",
              "    background-color: var(--hover-bg-color);\n",
              "    box-shadow: 0 1px 2px rgba(60, 64, 67, 0.3), 0 1px 3px 1px rgba(60, 64, 67, 0.15);\n",
              "    fill: var(--button-hover-fill-color);\n",
              "  }\n",
              "\n",
              "  .colab-df-quickchart-complete:disabled,\n",
              "  .colab-df-quickchart-complete:disabled:hover {\n",
              "    background-color: var(--disabled-bg-color);\n",
              "    fill: var(--disabled-fill-color);\n",
              "    box-shadow: none;\n",
              "  }\n",
              "\n",
              "  .colab-df-spinner {\n",
              "    border: 2px solid var(--fill-color);\n",
              "    border-color: transparent;\n",
              "    border-bottom-color: var(--fill-color);\n",
              "    animation:\n",
              "      spin 1s steps(1) infinite;\n",
              "  }\n",
              "\n",
              "  @keyframes spin {\n",
              "    0% {\n",
              "      border-color: transparent;\n",
              "      border-bottom-color: var(--fill-color);\n",
              "      border-left-color: var(--fill-color);\n",
              "    }\n",
              "    20% {\n",
              "      border-color: transparent;\n",
              "      border-left-color: var(--fill-color);\n",
              "      border-top-color: var(--fill-color);\n",
              "    }\n",
              "    30% {\n",
              "      border-color: transparent;\n",
              "      border-left-color: var(--fill-color);\n",
              "      border-top-color: var(--fill-color);\n",
              "      border-right-color: var(--fill-color);\n",
              "    }\n",
              "    40% {\n",
              "      border-color: transparent;\n",
              "      border-right-color: var(--fill-color);\n",
              "      border-top-color: var(--fill-color);\n",
              "    }\n",
              "    60% {\n",
              "      border-color: transparent;\n",
              "      border-right-color: var(--fill-color);\n",
              "    }\n",
              "    80% {\n",
              "      border-color: transparent;\n",
              "      border-right-color: var(--fill-color);\n",
              "      border-bottom-color: var(--fill-color);\n",
              "    }\n",
              "    90% {\n",
              "      border-color: transparent;\n",
              "      border-bottom-color: var(--fill-color);\n",
              "    }\n",
              "  }\n",
              "</style>\n",
              "\n",
              "  <script>\n",
              "    async function quickchart(key) {\n",
              "      const quickchartButtonEl =\n",
              "        document.querySelector('#' + key + ' button');\n",
              "      quickchartButtonEl.disabled = true;  // To prevent multiple clicks.\n",
              "      quickchartButtonEl.classList.add('colab-df-spinner');\n",
              "      try {\n",
              "        const charts = await google.colab.kernel.invokeFunction(\n",
              "            'suggestCharts', [key], {});\n",
              "      } catch (error) {\n",
              "        console.error('Error during call to suggestCharts:', error);\n",
              "      }\n",
              "      quickchartButtonEl.classList.remove('colab-df-spinner');\n",
              "      quickchartButtonEl.classList.add('colab-df-quickchart-complete');\n",
              "    }\n",
              "    (() => {\n",
              "      let quickchartButtonEl =\n",
              "        document.querySelector('#df-3d40013f-e94c-4880-bc77-fe219e0ec00b button');\n",
              "      quickchartButtonEl.style.display =\n",
              "        google.colab.kernel.accessAllowed ? 'block' : 'none';\n",
              "    })();\n",
              "  </script>\n",
              "</div>\n",
              "    </div>\n",
              "  </div>\n"
            ]
          },
          "metadata": {},
          "execution_count": 2
        }
      ]
    },
    {
      "cell_type": "markdown",
      "source": [
        "##2. **建立 Term Document Matrix:**"
      ],
      "metadata": {
        "id": "9WeTCJwtIDJC"
      }
    },
    {
      "cell_type": "markdown",
      "source": [
        "我們先利用 CountVectorizer 來建立 term document matrix。\n",
        "\n",
        "因為資料是df 裡面的'Text'，所以，我們可以用以下指令把 term document X 給建立起來。"
      ],
      "metadata": {
        "id": "x08pRhFIShNM"
      }
    },
    {
      "cell_type": "code",
      "source": [
        "from sklearn.feature_extraction.text import CountVectorizer\n",
        "\n",
        "vectorizer = CountVectorizer()\n",
        "X = vectorizer.fit_transform(df['Text'])"
      ],
      "metadata": {
        "id": "_rL886P2TRAM"
      },
      "execution_count": null,
      "outputs": []
    },
    {
      "cell_type": "code",
      "source": [
        "X.shape"
      ],
      "metadata": {
        "colab": {
          "base_uri": "https://localhost:8080/"
        },
        "id": "pdRggEccToln",
        "outputId": "0ff57452-57ce-45a6-d9aa-2b5c9c8902a1"
      },
      "execution_count": null,
      "outputs": [
        {
          "output_type": "execute_result",
          "data": {
            "text/plain": [
              "(5000, 13512)"
            ]
          },
          "metadata": {},
          "execution_count": 4
        }
      ]
    },
    {
      "cell_type": "markdown",
      "source": [
        "我們看到資料有5,000 筆，13,512 是資料裡有 13,512 個不同的字。"
      ],
      "metadata": {
        "id": "5ayNPmj9UFvG"
      }
    },
    {
      "cell_type": "markdown",
      "source": [
        "---"
      ],
      "metadata": {
        "id": "obrZCbbOTmi0"
      }
    },
    {
      "cell_type": "markdown",
      "source": [
        "如果我們想把一些沒有意義的字給移除，我們可以使用 stop words 來把不帶有訊息的介系詞連接詞等移除。"
      ],
      "metadata": {
        "id": "IlMzRyK0ZPRf"
      }
    },
    {
      "cell_type": "code",
      "source": [
        "vectorizer = CountVectorizer(stop_words='english')\n",
        "X = vectorizer.fit_transform(df['Text'])\n",
        "X.shape"
      ],
      "metadata": {
        "colab": {
          "base_uri": "https://localhost:8080/"
        },
        "id": "ngqWF6eJZPoG",
        "outputId": "aa4debad-54b2-4675-ac72-267bc740e9b4"
      },
      "execution_count": null,
      "outputs": [
        {
          "output_type": "execute_result",
          "data": {
            "text/plain": [
              "(5000, 13220)"
            ]
          },
          "metadata": {},
          "execution_count": 5
        }
      ]
    },
    {
      "cell_type": "markdown",
      "source": [
        "##3. **降維:**"
      ],
      "metadata": {
        "id": "C8zQFR-VJdwA"
      }
    },
    {
      "cell_type": "markdown",
      "source": [
        "使用截斷奇異值分解（Truncated SVD）進行降維，將文本表示為二維空間，方便後續的視覺化和分析。"
      ],
      "metadata": {
        "id": "xbfRaemNIrk8"
      }
    },
    {
      "cell_type": "markdown",
      "source": [
        ">TruncatedSVD(n_components=2) 是指定要做出逼近的資料是降維到二維，lsa 就是降維後的結果。降維後的兩個方向是類似PCA 的混合後的方向，所以無法明確地說明是哪一個字詞造成這樣的分類。"
      ],
      "metadata": {
        "id": "PiVyFWU-ZdUH"
      }
    },
    {
      "cell_type": "code",
      "source": [
        "from sklearn.decomposition import TruncatedSVD\n",
        "\n",
        "svd = TruncatedSVD(n_components=2)\n",
        "lsa = svd.fit_transform(X)"
      ],
      "metadata": {
        "id": "isK6tsyTZoCT"
      },
      "execution_count": null,
      "outputs": []
    },
    {
      "cell_type": "code",
      "source": [
        "lsa.shape"
      ],
      "metadata": {
        "colab": {
          "base_uri": "https://localhost:8080/"
        },
        "id": "_4-KkmYnZuwd",
        "outputId": "c3d3b512-4777-4b0a-f1c3-23b05ee62139"
      },
      "execution_count": null,
      "outputs": [
        {
          "output_type": "execute_result",
          "data": {
            "text/plain": [
              "(5000, 2)"
            ]
          },
          "metadata": {},
          "execution_count": 7
        }
      ]
    },
    {
      "cell_type": "code",
      "source": [
        "lsa[1:5,:]"
      ],
      "metadata": {
        "colab": {
          "base_uri": "https://localhost:8080/"
        },
        "id": "iRf_8TuSZvmc",
        "outputId": "ceab0bda-54e2-43f1-a73a-cef0346d8c49"
      },
      "execution_count": null,
      "outputs": [
        {
          "output_type": "execute_result",
          "data": {
            "text/plain": [
              "array([[ 0.20547956, -0.41009846],\n",
              "       [ 0.13898191, -0.24809401],\n",
              "       [ 0.21468432, -0.56437519],\n",
              "       [ 0.1434156 , -0.45782511]])"
            ]
          },
          "metadata": {},
          "execution_count": 8
        }
      ]
    },
    {
      "cell_type": "markdown",
      "source": [
        "## 4. **視覺化:**"
      ],
      "metadata": {
        "id": "MVD8W9Umi86C"
      }
    },
    {
      "cell_type": "markdown",
      "source": [
        "   將降維後的文本表示視覺化為散點圖，以便更好地理解文本的分佈情況。\n"
      ],
      "metadata": {
        "id": "YiBLXnwpJSnj"
      }
    },
    {
      "cell_type": "code",
      "source": [
        "plt.scatter(lsa[:,0], lsa[:,1])\n",
        "plt.xlabel('First Topic')\n",
        "plt.ylabel('Second Topic')\n",
        "\n",
        "plt.show()"
      ],
      "metadata": {
        "colab": {
          "base_uri": "https://localhost:8080/",
          "height": 450
        },
        "id": "o2o8njiri9Q7",
        "outputId": "45fc1b5e-ee33-43b5-b9d6-81b78b5f1e34"
      },
      "execution_count": null,
      "outputs": [
        {
          "output_type": "display_data",
          "data": {
            "text/plain": [
              "<Figure size 640x480 with 1 Axes>"
            ],
            "image/png": "[encoded data removed]"
          },
          "metadata": {}
        }
      ]
    },
    {
      "cell_type": "markdown",
      "source": [
        "##5. **顯示字詞分佈:**"
      ],
      "metadata": {
        "id": "tH07mQ4YJ2rC"
      }
    },
    {
      "cell_type": "markdown",
      "source": [
        "如果我們想看字詞的分佈，我們可以用以下的指令。"
      ],
      "metadata": {
        "id": "bmoTOyojmGrT"
      }
    },
    {
      "cell_type": "code",
      "source": [
        "lsa_t = svd.fit_transform(X.T)"
      ],
      "metadata": {
        "id": "LbI4ynC7mB-t"
      },
      "execution_count": null,
      "outputs": []
    },
    {
      "cell_type": "code",
      "source": [
        "lsa_t.shape"
      ],
      "metadata": {
        "id": "A7IgN4ozmfMm",
        "colab": {
          "base_uri": "https://localhost:8080/"
        },
        "outputId": "ccef2d18-f885-4602-b2bc-4225effb4a78"
      },
      "execution_count": null,
      "outputs": [
        {
          "output_type": "execute_result",
          "data": {
            "text/plain": [
              "(13220, 2)"
            ]
          },
          "metadata": {},
          "execution_count": 11
        }
      ]
    },
    {
      "cell_type": "code",
      "source": [
        "plt.scatter(lsa_t[:,0], lsa_t[:,1])\n",
        "plt.xlabel('First Topic')\n",
        "plt.ylabel('Second Topic')\n",
        "\n",
        "plt.show()"
      ],
      "metadata": {
        "colab": {
          "base_uri": "https://localhost:8080/",
          "height": 450
        },
        "id": "0wIoLGpM3f06",
        "outputId": "1dc9ffcd-4e10-4d7b-f50f-7d8dfa807ec0"
      },
      "execution_count": null,
      "outputs": [
        {
          "output_type": "display_data",
          "data": {
            "text/plain": [
              "<Figure size 640x480 with 1 Axes>"
            ],
            "image/png": "[encoded data removed]"
          },
          "metadata": {}
        }
      ]
    },
    {
      "cell_type": "markdown",
      "source": [
        " 這部分是展示字詞在降維空間中的分佈情況。"
      ],
      "metadata": {
        "id": "NyM4qKjSKBgs"
      }
    },
    {
      "cell_type": "code",
      "source": [
        "A = np.array(lsa_t[:,0]>6)\n",
        "true_list = np.nonzero(A)\n",
        "print(true_list)"
      ],
      "metadata": {
        "colab": {
          "base_uri": "https://localhost:8080/"
        },
        "id": "JHcXPFPT3j71",
        "outputId": "c7164d33-e3cc-4d9d-ac80-e6a915a4d9ad"
      },
      "execution_count": null,
      "outputs": [
        {
          "output_type": "stream",
          "name": "stdout",
          "text": [
            "(array([  735,  1253,  1260,  1469,  1475,  1714,  1937,  2364,  2384,\n",
            "        2585,  3211,  3846,  4045,  4585,  4783,  4790,  4886,  4980,\n",
            "        5288,  5400,  5879,  6181,  6495,  6602,  6864,  6932,  7024,\n",
            "        7136,  7558,  8112,  8208,  8932,  9057,  9121,  9459, 11408,\n",
            "       11676, 11715, 11857, 11932, 12147, 12189, 12492, 12559, 12806]),)\n"
          ]
        }
      ]
    },
    {
      "cell_type": "code",
      "source": [
        "dictionary = vectorizer.get_feature_names_out()\n",
        "dictionary[true_list]"
      ],
      "metadata": {
        "colab": {
          "base_uri": "https://localhost:8080/"
        },
        "id": "UBL57j4Z3_qe",
        "outputId": "33ecea37-7d7f-48a6-c88c-f29b4a48a72d"
      },
      "execution_count": null,
      "outputs": [
        {
          "output_type": "execute_result",
          "data": {
            "text/plain": [
              "array(['amazon', 'bag', 'bags', 'best', 'better', 'br', 'buy', 'chips',\n",
              "       'chocolate', 'coffee', 'cup', 'don', 'eat', 'fat', 'flavor',\n",
              "       'flavors', 'food', 'free', 'good', 'great', 'hot', 'ingredients',\n",
              "       'just', 'know', 'like', 'little', 'love', 'make', 'mix', 'oil',\n",
              "       'organic', 'potato', 'price', 'product', 'really', 'sugar',\n",
              "       'taste', 'tea', 'think', 'time', 'tried', 'try', 'use', 've',\n",
              "       'water'], dtype=object)"
            ]
          },
          "metadata": {},
          "execution_count": 14
        }
      ]
    },
    {
      "cell_type": "code",
      "source": [
        "A = np.array(lsa_t[:,1]>5)\n",
        "true_list = np.nonzero(A)\n",
        "print(true_list)\n",
        "dictionary[true_list]"
      ],
      "metadata": {
        "colab": {
          "base_uri": "https://localhost:8080/"
        },
        "id": "R19AraYp4Kpi",
        "outputId": "0f49782d-1068-4c55-b7a6-d1d0b0331864"
      },
      "execution_count": null,
      "outputs": [
        {
          "output_type": "stream",
          "name": "stdout",
          "text": [
            "(array([1714]),)\n"
          ]
        },
        {
          "output_type": "execute_result",
          "data": {
            "text/plain": [
              "array(['br'], dtype=object)"
            ]
          },
          "metadata": {},
          "execution_count": 15
        }
      ]
    },
    {
      "cell_type": "markdown",
      "source": [
        "##6. **使用 TF-IDF 進行分析:**"
      ],
      "metadata": {
        "id": "z63wTdOUKKrz"
      }
    },
    {
      "cell_type": "markdown",
      "source": [
        "使用 TF-IDF（Term Frequency-Inverse Document Frequency）進行文本特徵提取，這可以加權考慮字詞在整個文檔集合中的重要性。（token_pattern 的部分是剔除過短的字詞，參數中\\w\\w\\w 連續三個\\w 是我們只保留字詞長度大於等於3的字。）"
      ],
      "metadata": {
        "id": "Wb_LuBZdLNzt"
      }
    },
    {
      "cell_type": "code",
      "source": [
        "from sklearn.feature_extraction.text import TfidfVectorizer\n",
        "\n",
        "vectorizer = TfidfVectorizer(token_pattern=r'\\b\\w\\w\\w+\\b', min_df=0.08,stop_words='english')\n",
        "X = vectorizer.fit_transform(df['Text'])"
      ],
      "metadata": {
        "id": "erPqGT4G4cxy"
      },
      "execution_count": null,
      "outputs": []
    },
    {
      "cell_type": "code",
      "source": [
        "X.shape"
      ],
      "metadata": {
        "colab": {
          "base_uri": "https://localhost:8080/"
        },
        "id": "RKSMHCkz4hgA",
        "outputId": "ee71d13b-3479-4505-d651-c9ffbbe4195f"
      },
      "execution_count": null,
      "outputs": [
        {
          "output_type": "execute_result",
          "data": {
            "text/plain": [
              "(5000, 28)"
            ]
          },
          "metadata": {},
          "execution_count": 17
        }
      ]
    },
    {
      "cell_type": "code",
      "source": [
        "dictionary = vectorizer.get_feature_names_out()\n",
        "print(dictionary)"
      ],
      "metadata": {
        "colab": {
          "base_uri": "https://localhost:8080/"
        },
        "id": "ccLRkCBY4mZK",
        "outputId": "5e9e1cf1-40e8-4737-b704-c3089db5696f"
      },
      "execution_count": null,
      "outputs": [
        {
          "output_type": "stream",
          "name": "stdout",
          "text": [
            "['amazon' 'bag' 'best' 'better' 'bought' 'buy' 'chips' 'coffee' 'don'\n",
            " 'eat' 'flavor' 'food' 'good' 'great' 'just' 'like' 'little' 'love' 'make'\n",
            " 'price' 'product' 'really' 'taste' 'time' 'tried' 'try' 'use' 'used']\n"
          ]
        }
      ]
    },
    {
      "cell_type": "markdown",
      "source": [
        "##7. **TF-IDF 降維與視覺化:**"
      ],
      "metadata": {
        "id": "EEi4SBnDLfxX"
      }
    },
    {
      "cell_type": "markdown",
      "source": [
        " 再次使用 TruncatedSVD 對 TF-IDF 的表示進行降維和視覺化。"
      ],
      "metadata": {
        "id": "OGf1H9f-KZDA"
      }
    },
    {
      "cell_type": "code",
      "source": [
        "svd = TruncatedSVD(n_components=2)\n",
        "lsa = svd.fit_transform(X)\n",
        "plt.scatter(lsa[:,0], lsa[:,1])\n",
        "plt.xlabel('First Topic')\n",
        "plt.ylabel('Second Topic')\n",
        "\n",
        "plt.show()"
      ],
      "metadata": {
        "colab": {
          "base_uri": "https://localhost:8080/",
          "height": 452
        },
        "id": "NebxFdIZ4pXL",
        "outputId": "e18c58de-ab0c-4cd5-8001-8e09ae3c1b08"
      },
      "execution_count": null,
      "outputs": [
        {
          "output_type": "display_data",
          "data": {
            "text/plain": [
              "<Figure size 640x480 with 1 Axes>"
            ],
            "image/png": "[encoded data removed]"
          },
          "metadata": {}
        }
      ]
    },
    {
      "cell_type": "markdown",
      "source": [
        "##8. **篩選出特定條件的字詞:**"
      ],
      "metadata": {
        "id": "EpqzvUk8L8cp"
      }
    },
    {
      "cell_type": "markdown",
      "source": [
        "根據降維後的結果，篩選出滿足特定條件的字詞，以進一步分析和理解。"
      ],
      "metadata": {
        "id": "Mf5O9vEcMFaF"
      }
    },
    {
      "cell_type": "code",
      "source": [
        "lsa_t = svd.fit_transform(X.T)\n",
        "plt.scatter(lsa_t[:,0], lsa_t[:,1])\n",
        "plt.xlabel('First Topic')\n",
        "plt.ylabel('Second Topic')\n",
        "\n",
        "plt.show()"
      ],
      "metadata": {
        "colab": {
          "base_uri": "https://localhost:8080/",
          "height": 450
        },
        "id": "VamnBDvP4vpl",
        "outputId": "05a1b683-2ea2-4d59-9715-1392b5859bd5"
      },
      "execution_count": null,
      "outputs": [
        {
          "output_type": "display_data",
          "data": {
            "text/plain": [
              "<Figure size 640x480 with 1 Axes>"
            ],
            "image/png": "[encoded data removed]"
          },
          "metadata": {}
        }
      ]
    },
    {
      "cell_type": "code",
      "source": [
        "A = np.array(lsa_t[:,1]>4)\n",
        "true_list = np.nonzero(A)\n",
        "print(true_list)\n",
        "dictionary[true_list]"
      ],
      "metadata": {
        "colab": {
          "base_uri": "https://localhost:8080/"
        },
        "id": "1oQqtXsm4wsa",
        "outputId": "4832c6ca-2d97-4aab-8170-1181a4ad5563"
      },
      "execution_count": null,
      "outputs": [
        {
          "output_type": "stream",
          "name": "stdout",
          "text": [
            "(array([13, 20]),)\n"
          ]
        },
        {
          "output_type": "execute_result",
          "data": {
            "text/plain": [
              "array(['great', 'product'], dtype=object)"
            ]
          },
          "metadata": {},
          "execution_count": 21
        }
      ]
    },
    {
      "cell_type": "code",
      "source": [
        "A = np.array(lsa_t[:,0]>7)\n",
        "true_list = np.nonzero(A)\n",
        "print(true_list)\n",
        "dictionary[true_list]"
      ],
      "metadata": {
        "colab": {
          "base_uri": "https://localhost:8080/"
        },
        "id": "C_GicBbe406j",
        "outputId": "0042cb66-3a4a-4ef6-c2c7-aaeb5d37caaf"
      },
      "execution_count": null,
      "outputs": [
        {
          "output_type": "stream",
          "name": "stdout",
          "text": [
            "(array([12, 13, 15, 20, 22]),)\n"
          ]
        },
        {
          "output_type": "execute_result",
          "data": {
            "text/plain": [
              "array(['good', 'great', 'like', 'product', 'taste'], dtype=object)"
            ]
          },
          "metadata": {},
          "execution_count": 22
        }
      ]
    },
    {
      "cell_type": "markdown",
      "source": [
        "這裡可以看到連續出現的同義字，可見越推薦的正向內容會越出現在右邊的正方向。因此，我們可以猜測 X 的lsa 分佈在右邊的內容會是很正向的評論。"
      ],
      "metadata": {
        "id": "BIsSFgvMSU7n"
      }
    },
    {
      "cell_type": "code",
      "source": [
        "A = np.array(lsa[:,1]>0.7)\n",
        "true_list = np.nonzero(A)\n",
        "print(true_list)"
      ],
      "metadata": {
        "colab": {
          "base_uri": "https://localhost:8080/"
        },
        "id": "xDfPMi174309",
        "outputId": "acdb59d2-ff98-4621-9e02-09894b69ba8c"
      },
      "execution_count": null,
      "outputs": [
        {
          "output_type": "stream",
          "name": "stdout",
          "text": [
            "(array([  58,   63,  661, 1260, 1292, 1737, 1945, 2489, 2515, 3003, 3184,\n",
            "       4084, 4094, 4196, 4375]),)\n"
          ]
        }
      ]
    },
    {
      "cell_type": "markdown",
      "source": [
        "上列是 lsa 分佈在最右端的資料的index"
      ],
      "metadata": {
        "id": "2jD_SquVSbw6"
      }
    },
    {
      "cell_type": "markdown",
      "source": [
        "##9. **展示文章內容:**"
      ],
      "metadata": {
        "id": "MnVvps4EMSiT"
      }
    },
    {
      "cell_type": "code",
      "source": [
        "df['Text'][58]"
      ],
      "metadata": {
        "colab": {
          "base_uri": "https://localhost:8080/",
          "height": 42
        },
        "id": "uTTObITt5RSY",
        "outputId": "f8e6db86-917e-4e35-a6f4-8384392ea2ad"
      },
      "execution_count": null,
      "outputs": [
        {
          "output_type": "execute_result",
          "data": {
            "text/plain": [
              "'Great product, nice combination of chocolates and perfect size! The bags had plenty, and they were shipped promptly. The kids in the neighborhood liked our candies!'"
            ],
            "application/vnd.google.colaboratory.intrinsic+json": {
              "type": "string"
            }
          },
          "metadata": {},
          "execution_count": 24
        }
      ]
    },
    {
      "cell_type": "code",
      "source": [
        "df['Text'][4375]"
      ],
      "metadata": {
        "colab": {
          "base_uri": "https://localhost:8080/",
          "height": 42
        },
        "id": "MoXKBbhC5UG6",
        "outputId": "d2ad2098-02f9-42ad-aba2-b46d2cef7992"
      },
      "execution_count": null,
      "outputs": [
        {
          "output_type": "execute_result",
          "data": {
            "text/plain": [
              "'This is a great product! Hats off to Betty Crocker once again. They are becoming a more \"MAIN STREAM\" go-to company for people who are gluten free!'"
            ],
            "application/vnd.google.colaboratory.intrinsic+json": {
              "type": "string"
            }
          },
          "metadata": {},
          "execution_count": 25
        }
      ]
    },
    {
      "cell_type": "code",
      "source": [
        "df['Text'][2515]"
      ],
      "metadata": {
        "colab": {
          "base_uri": "https://localhost:8080/",
          "height": 64
        },
        "id": "yapuxebU5VPo",
        "outputId": "cc5566c6-bc9a-4252-92dc-c8fac8941186"
      },
      "execution_count": null,
      "outputs": [
        {
          "output_type": "execute_result",
          "data": {
            "text/plain": [
              "\"This is a great product, so it's no surprise that the local shelves are often cleared of it, especially early in the season. Purchasing in bulk through amazon.com is a dependable alternative. Bayer 2-in-1 in granular form feeds roses and flowers while protecting them with a systemic insecticide for up to 6 weeks, but you'll need a separate fungicidal/disease treatment, and the systemic would not be something one would apply to anything edible. Bayer assures me the product is safe for pollinators and earthworms.\""
            ],
            "application/vnd.google.colaboratory.intrinsic+json": {
              "type": "string"
            }
          },
          "metadata": {},
          "execution_count": 26
        }
      ]
    },
    {
      "cell_type": "markdown",
      "source": [
        "上列文章內容的評語都偏正向，這也展示了這個語意分析工具的能力。"
      ],
      "metadata": {
        "id": "wHUiB48Lqdqb"
      }
    }
  ]
}